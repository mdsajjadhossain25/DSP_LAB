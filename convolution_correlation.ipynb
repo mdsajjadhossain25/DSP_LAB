{
 "cells": [
  {
   "cell_type": "code",
   "execution_count": 2,
   "id": "fd4562cb-b034-42b3-b1b7-af1a8219fd42",
   "metadata": {},
   "outputs": [
    {
     "name": "stdout",
     "output_type": "stream",
     "text": [
      "Autocorrelation r_x(m):\n",
      "r_x(-3) = 7.0\n",
      "r_x(-2) = 26.0\n",
      "r_x(-1) = 53.0\n",
      "r_x(0) = 84.0\n",
      "r_x(1) = 53.0\n",
      "r_x(2) = 26.0\n",
      "r_x(3) = 7.0\n"
     ]
    }
   ],
   "source": [
    "import numpy as np\n",
    "\n",
    "x = np.array([1, 3, 5, 7])\n",
    "N = len(x)\n",
    "autocorrelation = np.zeros(2 * N - 1)\n",
    "\n",
    "for m in range(-N + 1, N):\n",
    "    r_m = 0  \n",
    "    for n in range(N):\n",
    "        if 0 <= n - m < N: \n",
    "            r_m += x[n] * x[n - m] \n",
    "    autocorrelation[m + N - 1] = r_m  \n",
    "print(\"Autocorrelation r_x(m):\")\n",
    "for i, value in enumerate(autocorrelation):\n",
    "    lag = i - (N - 1) \n",
    "    print(f\"r_x({lag}) = {value}\")"
   ]
  },
  {
   "cell_type": "code",
   "execution_count": null,
   "id": "5f46412f-5f1f-4cf4-8b42-0973c2374065",
   "metadata": {},
   "outputs": [],
   "source": []
  }
 ],
 "metadata": {
  "kernelspec": {
   "display_name": "Python 3 (ipykernel)",
   "language": "python",
   "name": "python3"
  },
  "language_info": {
   "codemirror_mode": {
    "name": "ipython",
    "version": 3
   },
   "file_extension": ".py",
   "mimetype": "text/x-python",
   "name": "python",
   "nbconvert_exporter": "python",
   "pygments_lexer": "ipython3",
   "version": "3.12.3"
  }
 },
 "nbformat": 4,
 "nbformat_minor": 5
}
