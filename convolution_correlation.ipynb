{
 "cells": [
  {
   "cell_type": "code",
   "execution_count": 2,
   "id": "fd4562cb-b034-42b3-b1b7-af1a8219fd42",
   "metadata": {},
   "outputs": [
    {
     "name": "stdout",
     "output_type": "stream",
     "text": [
      "Autocorrelation r_x(m):\n",
      "r_x(-3) = 7.0\n",
      "r_x(-2) = 26.0\n",
      "r_x(-1) = 53.0\n",
      "r_x(0) = 84.0\n",
      "r_x(1) = 53.0\n",
      "r_x(2) = 26.0\n",
      "r_x(3) = 7.0\n"
     ]
    }
   ],
   "source": [
    "import numpy as np\n",
    "\n",
    "x = np.array([1, 3, 5, 7])\n",
    "N = len(x)\n",
    "autocorrelation = np.zeros(2 * N - 1)\n",
    "\n",
    "for m in range(-N + 1, N):\n",
    "    r_m = 0  \n",
    "    for n in range(N):\n",
    "        if 0 <= n - m < N: \n",
    "            r_m += x[n] * x[n - m] \n",
    "    autocorrelation[m + N - 1] = r_m  \n",
    "print(\"Autocorrelation r_x(m):\")\n",
    "for i, value in enumerate(autocorrelation):\n",
    "    lag = i - (N - 1) \n",
    "    print(f\"r_x({lag}) = {value}\")"
   ]
  },
  {
   "cell_type": "code",
   "execution_count": 1,
   "id": "5f46412f-5f1f-4cf4-8b42-0973c2374065",
   "metadata": {},
   "outputs": [
    {
     "name": "stdout",
     "output_type": "stream",
     "text": [
      "The convolution sum y(n) is: [1. 3. 7. 7. 7. 6. 4.]\n"
     ]
    }
   ],
   "source": [
    "import numpy as np\n",
    "\n",
    "x = np.array([1, 2, 4])\n",
    "h = np.array([1, 1, 1, 1, 1])\n",
    "\n",
    "output_length = len(x) + len(h) - 1\n",
    "y = np.zeros(output_length)\n",
    "\n",
    "for n in range(output_length):\n",
    "    y_n = 0 \n",
    "    for k in range(len(x)):\n",
    "        if 0 <= n - k < len(h):\n",
    "            y_n += x[k] * h[n - k]  \n",
    "    y[n] = y_n  \n",
    "\n",
    "print(\"The convolution sum y(n) is:\", y)\n"
   ]
  },
  {
   "cell_type": "code",
   "execution_count": 2,
   "id": "7fb857bc-8367-4e75-8513-c634dc71f038",
   "metadata": {},
   "outputs": [
    {
     "name": "stdout",
     "output_type": "stream",
     "text": [
      "value:  [ 7. 26. 53. 84. 53. 26.  7.]\n"
     ]
    },
    {
     "data": {
      "image/png": "[encoded data removed]",
      "text/plain": [
       "<Figure size 1200x400 with 1 Axes>"
      ]
     },
     "metadata": {},
     "output_type": "display_data"
    }
   ],
   "source": [
    "#auto correlation using convolution\n",
    "import numpy as np\n",
    "import matplotlib.pyplot as plt\n",
    "\n",
    "# Define the input arrays\n",
    "x = np.array([1, 3, 5, 7])\n",
    "h = np.array([1, 3, 5, 7])\n",
    "\n",
    "h = h[::-1]\n",
    "\n",
    "\n",
    "N = len(x) + len(h) - 1\n",
    "\n",
    "y = np.zeros(N)\n",
    "\n",
    "for n in range(N):\n",
    "    res = 0\n",
    "    for k in range(len(x)):\n",
    "        if 0 <= n - k < len(h):\n",
    "            res += x[k] * h[n - k]\n",
    "    y[n] = res\n",
    "print(\"value: \", y)\n",
    "\n",
    "lags = np.arange(-len(x) + 1, len(h))\n",
    "\n",
    "# Plotting the correlation\n",
    "plt.figure(figsize=(12, 4))\n",
    "plt.stem(lags, y)\n",
    "plt.title('Autocorrelation')\n",
    "plt.xlabel('Lag')\n",
    "plt.ylabel('Autocorrelation')\n",
    "plt.grid(True)\n",
    "plt.axhline(0, color='r')\n",
    "plt.tight_layout()\n",
    "plt.show()\n"
   ]
  },
  {
   "cell_type": "code",
   "execution_count": null,
   "id": "661513ca-3c51-4561-bfbf-8c653eaa4132",
   "metadata": {},
   "outputs": [],
   "source": []
  }
 ],
 "metadata": {
  "kernelspec": {
   "display_name": "Python 3 (ipykernel)",
   "language": "python",
   "name": "python3"
  },
  "language_info": {
   "codemirror_mode": {
    "name": "ipython",
    "version": 3
   },
   "file_extension": ".py",
   "mimetype": "text/x-python",
   "name": "python",
   "nbconvert_exporter": "python",
   "pygments_lexer": "ipython3",
   "version": "3.12.3"
  }
 },
 "nbformat": 4,
 "nbformat_minor": 5
}
